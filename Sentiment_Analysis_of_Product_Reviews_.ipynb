{
  "nbformat": 4,
  "nbformat_minor": 0,
  "metadata": {
    "colab": {
      "name": "Sentiment Analysis of Product Reviews .ipynb",
      "provenance": [],
      "authorship_tag": "ABX9TyPSr3fbDNkesRGGiOcxYSWV",
      "include_colab_link": true
    },
    "kernelspec": {
      "name": "python3",
      "display_name": "Python 3"
    },
    "language_info": {
      "name": "python"
    }
  },
  "cells": [
    {
      "cell_type": "markdown",
      "metadata": {
        "id": "view-in-github",
        "colab_type": "text"
      },
      "source": [
        "<a href=\"https://colab.research.google.com/github/Priyal-Y/Machine-Learning-and-Data-Science/blob/main/Sentiment_Analysis_of_Product_Reviews_.ipynb\" target=\"_parent\"><img src=\"https://colab.research.google.com/assets/colab-badge.svg\" alt=\"Open In Colab\"/></a>"
      ]
    },
    {
      "cell_type": "markdown",
      "metadata": {
        "id": "Hvu9WZ4vJy_A"
      },
      "source": [
        "**Software Engineering and Project Managment**<br>\n",
        "\n",
        "\n",
        "---\n",
        "\n",
        "**Project Name:** Sentiment Analysis of Product Review<br>\n",
        "**Author:** Priyal Yadav\n"
      ]
    },
    {
      "cell_type": "code",
      "metadata": {
        "colab": {
          "base_uri": "https://localhost:8080/",
          "height": 354
        },
        "id": "-kqZZCx2KaTH",
        "outputId": "a7959624-1698-4531-b17d-76d8df62b889"
      },
      "source": [
        "pip install nltk==3.3\n"
      ],
      "execution_count": 4,
      "outputs": [
        {
          "output_type": "stream",
          "name": "stdout",
          "text": [
            "Collecting nltk==3.3\n",
            "  Downloading nltk-3.3.0.zip (1.4 MB)\n",
            "\u001b[?25l\r\u001b[K     |▎                               | 10 kB 19.1 MB/s eta 0:00:01\r\u001b[K     |▌                               | 20 kB 22.5 MB/s eta 0:00:01\r\u001b[K     |▊                               | 30 kB 26.3 MB/s eta 0:00:01\r\u001b[K     |█                               | 40 kB 29.3 MB/s eta 0:00:01\r\u001b[K     |█▏                              | 51 kB 30.9 MB/s eta 0:00:01\r\u001b[K     |█▍                              | 61 kB 32.2 MB/s eta 0:00:01\r\u001b[K     |█▋                              | 71 kB 32.2 MB/s eta 0:00:01\r\u001b[K     |█▉                              | 81 kB 33.1 MB/s eta 0:00:01\r\u001b[K     |██▏                             | 92 kB 34.4 MB/s eta 0:00:01\r\u001b[K     |██▍                             | 102 kB 35.0 MB/s eta 0:00:01\r\u001b[K     |██▋                             | 112 kB 35.0 MB/s eta 0:00:01\r\u001b[K     |██▉                             | 122 kB 35.0 MB/s eta 0:00:01\r\u001b[K     |███                             | 133 kB 35.0 MB/s eta 0:00:01\r\u001b[K     |███▎                            | 143 kB 35.0 MB/s eta 0:00:01\r\u001b[K     |███▌                            | 153 kB 35.0 MB/s eta 0:00:01\r\u001b[K     |███▊                            | 163 kB 35.0 MB/s eta 0:00:01\r\u001b[K     |████                            | 174 kB 35.0 MB/s eta 0:00:01\r\u001b[K     |████▎                           | 184 kB 35.0 MB/s eta 0:00:01\r\u001b[K     |████▌                           | 194 kB 35.0 MB/s eta 0:00:01\r\u001b[K     |████▊                           | 204 kB 35.0 MB/s eta 0:00:01\r\u001b[K     |█████                           | 215 kB 35.0 MB/s eta 0:00:01\r\u001b[K     |█████▏                          | 225 kB 35.0 MB/s eta 0:00:01\r\u001b[K     |█████▍                          | 235 kB 35.0 MB/s eta 0:00:01\r\u001b[K     |█████▋                          | 245 kB 35.0 MB/s eta 0:00:01\r\u001b[K     |██████                          | 256 kB 35.0 MB/s eta 0:00:01\r\u001b[K     |██████▏                         | 266 kB 35.0 MB/s eta 0:00:01\r\u001b[K     |██████▍                         | 276 kB 35.0 MB/s eta 0:00:01\r\u001b[K     |██████▋                         | 286 kB 35.0 MB/s eta 0:00:01\r\u001b[K     |██████▉                         | 296 kB 35.0 MB/s eta 0:00:01\r\u001b[K     |███████                         | 307 kB 35.0 MB/s eta 0:00:01\r\u001b[K     |███████▎                        | 317 kB 35.0 MB/s eta 0:00:01\r\u001b[K     |███████▌                        | 327 kB 35.0 MB/s eta 0:00:01\r\u001b[K     |███████▊                        | 337 kB 35.0 MB/s eta 0:00:01\r\u001b[K     |████████                        | 348 kB 35.0 MB/s eta 0:00:01\r\u001b[K     |████████▎                       | 358 kB 35.0 MB/s eta 0:00:01\r\u001b[K     |████████▌                       | 368 kB 35.0 MB/s eta 0:00:01\r\u001b[K     |████████▊                       | 378 kB 35.0 MB/s eta 0:00:01\r\u001b[K     |█████████                       | 389 kB 35.0 MB/s eta 0:00:01\r\u001b[K     |█████████▏                      | 399 kB 35.0 MB/s eta 0:00:01\r\u001b[K     |█████████▍                      | 409 kB 35.0 MB/s eta 0:00:01\r\u001b[K     |█████████▋                      | 419 kB 35.0 MB/s eta 0:00:01\r\u001b[K     |██████████                      | 430 kB 35.0 MB/s eta 0:00:01\r\u001b[K     |██████████▏                     | 440 kB 35.0 MB/s eta 0:00:01\r\u001b[K     |██████████▍                     | 450 kB 35.0 MB/s eta 0:00:01\r\u001b[K     |██████████▋                     | 460 kB 35.0 MB/s eta 0:00:01\r\u001b[K     |██████████▉                     | 471 kB 35.0 MB/s eta 0:00:01\r\u001b[K     |███████████                     | 481 kB 35.0 MB/s eta 0:00:01\r\u001b[K     |███████████▎                    | 491 kB 35.0 MB/s eta 0:00:01\r\u001b[K     |███████████▌                    | 501 kB 35.0 MB/s eta 0:00:01\r\u001b[K     |███████████▉                    | 512 kB 35.0 MB/s eta 0:00:01\r\u001b[K     |████████████                    | 522 kB 35.0 MB/s eta 0:00:01\r\u001b[K     |████████████▎                   | 532 kB 35.0 MB/s eta 0:00:01\r\u001b[K     |████████████▌                   | 542 kB 35.0 MB/s eta 0:00:01\r\u001b[K     |████████████▊                   | 552 kB 35.0 MB/s eta 0:00:01\r\u001b[K     |█████████████                   | 563 kB 35.0 MB/s eta 0:00:01\r\u001b[K     |█████████████▏                  | 573 kB 35.0 MB/s eta 0:00:01\r\u001b[K     |█████████████▍                  | 583 kB 35.0 MB/s eta 0:00:01\r\u001b[K     |█████████████▊                  | 593 kB 35.0 MB/s eta 0:00:01\r\u001b[K     |██████████████                  | 604 kB 35.0 MB/s eta 0:00:01\r\u001b[K     |██████████████▏                 | 614 kB 35.0 MB/s eta 0:00:01\r\u001b[K     |██████████████▍                 | 624 kB 35.0 MB/s eta 0:00:01\r\u001b[K     |██████████████▋                 | 634 kB 35.0 MB/s eta 0:00:01\r\u001b[K     |██████████████▉                 | 645 kB 35.0 MB/s eta 0:00:01\r\u001b[K     |███████████████                 | 655 kB 35.0 MB/s eta 0:00:01\r\u001b[K     |███████████████▎                | 665 kB 35.0 MB/s eta 0:00:01\r\u001b[K     |███████████████▌                | 675 kB 35.0 MB/s eta 0:00:01\r\u001b[K     |███████████████▉                | 686 kB 35.0 MB/s eta 0:00:01\r\u001b[K     |████████████████                | 696 kB 35.0 MB/s eta 0:00:01\r\u001b[K     |████████████████▎               | 706 kB 35.0 MB/s eta 0:00:01\r\u001b[K     |████████████████▌               | 716 kB 35.0 MB/s eta 0:00:01\r\u001b[K     |████████████████▊               | 727 kB 35.0 MB/s eta 0:00:01\r\u001b[K     |█████████████████               | 737 kB 35.0 MB/s eta 0:00:01\r\u001b[K     |█████████████████▏              | 747 kB 35.0 MB/s eta 0:00:01\r\u001b[K     |█████████████████▍              | 757 kB 35.0 MB/s eta 0:00:01\r\u001b[K     |█████████████████▊              | 768 kB 35.0 MB/s eta 0:00:01\r\u001b[K     |██████████████████              | 778 kB 35.0 MB/s eta 0:00:01\r\u001b[K     |██████████████████▏             | 788 kB 35.0 MB/s eta 0:00:01\r\u001b[K     |██████████████████▍             | 798 kB 35.0 MB/s eta 0:00:01\r\u001b[K     |██████████████████▋             | 808 kB 35.0 MB/s eta 0:00:01\r\u001b[K     |██████████████████▉             | 819 kB 35.0 MB/s eta 0:00:01\r\u001b[K     |███████████████████             | 829 kB 35.0 MB/s eta 0:00:01\r\u001b[K     |███████████████████▎            | 839 kB 35.0 MB/s eta 0:00:01\r\u001b[K     |███████████████████▋            | 849 kB 35.0 MB/s eta 0:00:01\r\u001b[K     |███████████████████▉            | 860 kB 35.0 MB/s eta 0:00:01\r\u001b[K     |████████████████████            | 870 kB 35.0 MB/s eta 0:00:01\r\u001b[K     |████████████████████▎           | 880 kB 35.0 MB/s eta 0:00:01\r\u001b[K     |████████████████████▌           | 890 kB 35.0 MB/s eta 0:00:01\r\u001b[K     |████████████████████▊           | 901 kB 35.0 MB/s eta 0:00:01\r\u001b[K     |█████████████████████           | 911 kB 35.0 MB/s eta 0:00:01\r\u001b[K     |█████████████████████▏          | 921 kB 35.0 MB/s eta 0:00:01\r\u001b[K     |█████████████████████▌          | 931 kB 35.0 MB/s eta 0:00:01\r\u001b[K     |█████████████████████▊          | 942 kB 35.0 MB/s eta 0:00:01\r\u001b[K     |██████████████████████          | 952 kB 35.0 MB/s eta 0:00:01\r\u001b[K     |██████████████████████▏         | 962 kB 35.0 MB/s eta 0:00:01\r\u001b[K     |██████████████████████▍         | 972 kB 35.0 MB/s eta 0:00:01\r\u001b[K     |██████████████████████▋         | 983 kB 35.0 MB/s eta 0:00:01\r\u001b[K     |██████████████████████▉         | 993 kB 35.0 MB/s eta 0:00:01\r\u001b[K     |███████████████████████         | 1.0 MB 35.0 MB/s eta 0:00:01\r\u001b[K     |███████████████████████▎        | 1.0 MB 35.0 MB/s eta 0:00:01\r\u001b[K     |███████████████████████▋        | 1.0 MB 35.0 MB/s eta 0:00:01\r\u001b[K     |███████████████████████▉        | 1.0 MB 35.0 MB/s eta 0:00:01\r\u001b[K     |████████████████████████        | 1.0 MB 35.0 MB/s eta 0:00:01\r\u001b[K     |████████████████████████▎       | 1.1 MB 35.0 MB/s eta 0:00:01\r\u001b[K     |████████████████████████▌       | 1.1 MB 35.0 MB/s eta 0:00:01\r\u001b[K     |████████████████████████▊       | 1.1 MB 35.0 MB/s eta 0:00:01\r\u001b[K     |█████████████████████████       | 1.1 MB 35.0 MB/s eta 0:00:01\r\u001b[K     |█████████████████████████▏      | 1.1 MB 35.0 MB/s eta 0:00:01\r\u001b[K     |█████████████████████████▌      | 1.1 MB 35.0 MB/s eta 0:00:01\r\u001b[K     |█████████████████████████▊      | 1.1 MB 35.0 MB/s eta 0:00:01\r\u001b[K     |██████████████████████████      | 1.1 MB 35.0 MB/s eta 0:00:01\r\u001b[K     |██████████████████████████▏     | 1.1 MB 35.0 MB/s eta 0:00:01\r\u001b[K     |██████████████████████████▍     | 1.1 MB 35.0 MB/s eta 0:00:01\r\u001b[K     |██████████████████████████▋     | 1.2 MB 35.0 MB/s eta 0:00:01\r\u001b[K     |██████████████████████████▉     | 1.2 MB 35.0 MB/s eta 0:00:01\r\u001b[K     |███████████████████████████     | 1.2 MB 35.0 MB/s eta 0:00:01\r\u001b[K     |███████████████████████████▍    | 1.2 MB 35.0 MB/s eta 0:00:01\r\u001b[K     |███████████████████████████▋    | 1.2 MB 35.0 MB/s eta 0:00:01\r\u001b[K     |███████████████████████████▉    | 1.2 MB 35.0 MB/s eta 0:00:01\r\u001b[K     |████████████████████████████    | 1.2 MB 35.0 MB/s eta 0:00:01\r\u001b[K     |████████████████████████████▎   | 1.2 MB 35.0 MB/s eta 0:00:01\r\u001b[K     |████████████████████████████▌   | 1.2 MB 35.0 MB/s eta 0:00:01\r\u001b[K     |████████████████████████████▊   | 1.2 MB 35.0 MB/s eta 0:00:01\r\u001b[K     |█████████████████████████████   | 1.3 MB 35.0 MB/s eta 0:00:01\r\u001b[K     |█████████████████████████████▎  | 1.3 MB 35.0 MB/s eta 0:00:01\r\u001b[K     |█████████████████████████████▌  | 1.3 MB 35.0 MB/s eta 0:00:01\r\u001b[K     |█████████████████████████████▊  | 1.3 MB 35.0 MB/s eta 0:00:01\r\u001b[K     |██████████████████████████████  | 1.3 MB 35.0 MB/s eta 0:00:01\r\u001b[K     |██████████████████████████████▏ | 1.3 MB 35.0 MB/s eta 0:00:01\r\u001b[K     |██████████████████████████████▍ | 1.3 MB 35.0 MB/s eta 0:00:01\r\u001b[K     |██████████████████████████████▋ | 1.3 MB 35.0 MB/s eta 0:00:01\r\u001b[K     |██████████████████████████████▉ | 1.3 MB 35.0 MB/s eta 0:00:01\r\u001b[K     |███████████████████████████████ | 1.4 MB 35.0 MB/s eta 0:00:01\r\u001b[K     |███████████████████████████████▍| 1.4 MB 35.0 MB/s eta 0:00:01\r\u001b[K     |███████████████████████████████▋| 1.4 MB 35.0 MB/s eta 0:00:01\r\u001b[K     |███████████████████████████████▉| 1.4 MB 35.0 MB/s eta 0:00:01\r\u001b[K     |████████████████████████████████| 1.4 MB 35.0 MB/s \n",
            "\u001b[?25hRequirement already satisfied: six in /usr/local/lib/python3.7/dist-packages (from nltk==3.3) (1.15.0)\n",
            "Building wheels for collected packages: nltk\n",
            "  Building wheel for nltk (setup.py) ... \u001b[?25l\u001b[?25hdone\n",
            "  Created wheel for nltk: filename=nltk-3.3-py3-none-any.whl size=1394485 sha256=d043d6acb62fc7a13d947b0b8c0c1a177404659e1c44e647119bb5793cc80d79\n",
            "  Stored in directory: /root/.cache/pip/wheels/9b/fd/0c/d92302c876e5de87ebd7fc0979d82edb93e2d8d768bf71fac4\n",
            "Successfully built nltk\n",
            "Installing collected packages: nltk\n",
            "  Attempting uninstall: nltk\n",
            "    Found existing installation: nltk 3.2.5\n",
            "    Uninstalling nltk-3.2.5:\n",
            "      Successfully uninstalled nltk-3.2.5\n",
            "Successfully installed nltk-3.3\n"
          ]
        },
        {
          "output_type": "display_data",
          "data": {
            "application/vnd.colab-display-data+json": {
              "pip_warning": {
                "packages": [
                  "nltk"
                ]
              }
            }
          },
          "metadata": {}
        }
      ]
    },
    {
      "cell_type": "code",
      "metadata": {
        "id": "zGQAgttkKoGs"
      },
      "source": [
        "import nltk\n"
      ],
      "execution_count": 2,
      "outputs": []
    },
    {
      "cell_type": "code",
      "metadata": {
        "colab": {
          "base_uri": "https://localhost:8080/"
        },
        "id": "U_4Sx7AuKrrb",
        "outputId": "cac929cd-1e68-4185-b131-46fc45cb5b41"
      },
      "source": [
        "nltk.download('twitter_samples')"
      ],
      "execution_count": 3,
      "outputs": [
        {
          "output_type": "stream",
          "name": "stdout",
          "text": [
            "[nltk_data] Downloading package twitter_samples to /root/nltk_data...\n",
            "[nltk_data]   Unzipping corpora/twitter_samples.zip.\n"
          ]
        },
        {
          "output_type": "execute_result",
          "data": {
            "text/plain": [
              "True"
            ]
          },
          "metadata": {},
          "execution_count": 3
        }
      ]
    },
    {
      "cell_type": "markdown",
      "metadata": {
        "id": "aqQTcEJdLp1L"
      },
      "source": [
        "**Tokenization**"
      ]
    },
    {
      "cell_type": "code",
      "metadata": {
        "id": "X-kmfG5IKxPF"
      },
      "source": [
        "from nltk.corpus import twitter_samples"
      ],
      "execution_count": 5,
      "outputs": []
    },
    {
      "cell_type": "code",
      "metadata": {
        "id": "NmepLECyK6HY"
      },
      "source": [
        "from nltk.corpus import twitter_samples\n",
        "\n",
        "positive_tweets = twitter_samples.strings('positive_tweets.json')\n",
        "negative_tweets = twitter_samples.strings('negative_tweets.json')\n",
        "text = twitter_samples.strings('tweets.20150430-223406.json')"
      ],
      "execution_count": 6,
      "outputs": []
    },
    {
      "cell_type": "code",
      "metadata": {
        "colab": {
          "base_uri": "https://localhost:8080/"
        },
        "id": "9bbh5sY1LCaS",
        "outputId": "5ad0331e-5319-40fb-b46c-cd0d65d81949"
      },
      "source": [
        "import nltk\n",
        "nltk.download('punkt')\n"
      ],
      "execution_count": 7,
      "outputs": [
        {
          "output_type": "stream",
          "name": "stdout",
          "text": [
            "[nltk_data] Downloading package punkt to /root/nltk_data...\n",
            "[nltk_data]   Unzipping tokenizers/punkt.zip.\n"
          ]
        },
        {
          "output_type": "execute_result",
          "data": {
            "text/plain": [
              "True"
            ]
          },
          "metadata": {},
          "execution_count": 7
        }
      ]
    },
    {
      "cell_type": "code",
      "metadata": {
        "id": "nNPxjkNfLGaj"
      },
      "source": [
        "from nltk.corpus import twitter_samples\n",
        "\n",
        "positive_tweets = twitter_samples.strings('positive_tweets.json')\n",
        "negative_tweets = twitter_samples.strings('negative_tweets.json')\n",
        "text = twitter_samples.strings('tweets.20150430-223406.json')\n",
        "tweet_tokens = twitter_samples.tokenized('positive_tweets.json')"
      ],
      "execution_count": 8,
      "outputs": []
    },
    {
      "cell_type": "code",
      "metadata": {
        "colab": {
          "base_uri": "https://localhost:8080/"
        },
        "id": "aeEVkjrgLNJJ",
        "outputId": "6b40df42-0739-4748-b914-0c9a74ab8cab"
      },
      "source": [
        "from nltk.corpus import twitter_samples\n",
        "\n",
        "positive_tweets = twitter_samples.strings('positive_tweets.json')\n",
        "negative_tweets = twitter_samples.strings('negative_tweets.json')\n",
        "text = twitter_samples.strings('tweets.20150430-223406.json')\n",
        "tweet_tokens = twitter_samples.tokenized('positive_tweets.json')[0]\n",
        "\n",
        "print(tweet_tokens[0])"
      ],
      "execution_count": 11,
      "outputs": [
        {
          "output_type": "stream",
          "name": "stdout",
          "text": [
            "#FollowFriday\n"
          ]
        }
      ]
    },
    {
      "cell_type": "markdown",
      "metadata": {
        "id": "w6UXhbAeLwB2"
      },
      "source": [
        "**Normalization**"
      ]
    },
    {
      "cell_type": "code",
      "metadata": {
        "colab": {
          "base_uri": "https://localhost:8080/"
        },
        "id": "ITsmB-hrLy-C",
        "outputId": "26c30958-a6cc-4da4-afde-812d990ce276"
      },
      "source": [
        "import nltk\n",
        "nltk.download('wordnet')\n",
        "nltk.download('averaged_perceptron_tagger')"
      ],
      "execution_count": 12,
      "outputs": [
        {
          "output_type": "stream",
          "name": "stdout",
          "text": [
            "[nltk_data] Downloading package wordnet to /root/nltk_data...\n",
            "[nltk_data]   Package wordnet is already up-to-date!\n",
            "[nltk_data] Downloading package averaged_perceptron_tagger to\n",
            "[nltk_data]     /root/nltk_data...\n",
            "[nltk_data]   Package averaged_perceptron_tagger is already up-to-\n",
            "[nltk_data]       date!\n"
          ]
        },
        {
          "output_type": "execute_result",
          "data": {
            "text/plain": [
              "True"
            ]
          },
          "metadata": {},
          "execution_count": 12
        }
      ]
    },
    {
      "cell_type": "code",
      "metadata": {
        "colab": {
          "base_uri": "https://localhost:8080/"
        },
        "id": "FmMbyY-YL3gs",
        "outputId": "f0c07b72-e352-4667-b5c3-dcf190eac88e"
      },
      "source": [
        "from nltk.tag import pos_tag\n",
        "from nltk.corpus import twitter_samples\n",
        "\n",
        "tweet_tokens = twitter_samples.tokenized('positive_tweets.json')\n",
        "print(pos_tag(tweet_tokens[0]))\n"
      ],
      "execution_count": 13,
      "outputs": [
        {
          "output_type": "stream",
          "name": "stdout",
          "text": [
            "[('#FollowFriday', 'JJ'), ('@France_Inte', 'NNP'), ('@PKuchly57', 'NNP'), ('@Milipol_Paris', 'NNP'), ('for', 'IN'), ('being', 'VBG'), ('top', 'JJ'), ('engaged', 'VBN'), ('members', 'NNS'), ('in', 'IN'), ('my', 'PRP$'), ('community', 'NN'), ('this', 'DT'), ('week', 'NN'), (':)', 'NN')]\n"
          ]
        }
      ]
    },
    {
      "cell_type": "code",
      "metadata": {
        "colab": {
          "base_uri": "https://localhost:8080/"
        },
        "id": "PShXz0F9L6J2",
        "outputId": "fb3af520-08dc-4e49-a366-be8aeeec2efc"
      },
      "source": [
        "...\n",
        "\n",
        "from nltk.tag import pos_tag\n",
        "from nltk.stem.wordnet import WordNetLemmatizer\n",
        "\n",
        "def lemmatize_sentence(tokens):\n",
        "    lemmatizer = WordNetLemmatizer()\n",
        "    lemmatized_sentence = []\n",
        "    for word, tag in pos_tag(tokens):\n",
        "        if tag.startswith('NN'):\n",
        "            pos = 'n'\n",
        "        elif tag.startswith('VB'):\n",
        "            pos = 'v'\n",
        "        else:\n",
        "            pos = 'a'\n",
        "        lemmatized_sentence.append(lemmatizer.lemmatize(word, pos))\n",
        "    return lemmatized_sentence\n",
        "\n",
        "print(lemmatize_sentence(tweet_tokens[0]))"
      ],
      "execution_count": 14,
      "outputs": [
        {
          "output_type": "stream",
          "name": "stdout",
          "text": [
            "['#FollowFriday', '@France_Inte', '@PKuchly57', '@Milipol_Paris', 'for', 'be', 'top', 'engage', 'member', 'in', 'my', 'community', 'this', 'week', ':)']\n"
          ]
        }
      ]
    },
    {
      "cell_type": "markdown",
      "metadata": {
        "id": "LiMJKs_FMEIC"
      },
      "source": [
        "**Noise Removal**"
      ]
    },
    {
      "cell_type": "code",
      "metadata": {
        "id": "cgCRw3P8MGVZ"
      },
      "source": [
        "...\n",
        "\n",
        "import re, string\n",
        "\n",
        "def remove_noise(tweet_tokens, stop_words = ()):\n",
        "\n",
        "    cleaned_tokens = []\n",
        "\n",
        "    for token, tag in pos_tag(tweet_tokens):\n",
        "        token = re.sub('http[s]?://(?:[a-zA-Z]|[0-9]|[$-_@.&+#]|[!*\\(\\),]|'\\\n",
        "                       '(?:%[0-9a-fA-F][0-9a-fA-F]))+','', token)\n",
        "        token = re.sub(\"(@[A-Za-z0-9_]+)\",\"\", token)\n",
        "\n",
        "        if tag.startswith(\"NN\"):\n",
        "            pos = 'n'\n",
        "        elif tag.startswith('VB'):\n",
        "            pos = 'v'\n",
        "        else:\n",
        "            pos = 'a'\n",
        "\n",
        "        lemmatizer = WordNetLemmatizer()\n",
        "        token = lemmatizer.lemmatize(token, pos)\n",
        "\n",
        "        if len(token) > 0 and token not in string.punctuation and token.lower() not in stop_words:\n",
        "            cleaned_tokens.append(token.lower())\n",
        "    return cleaned_tokens"
      ],
      "execution_count": 15,
      "outputs": []
    },
    {
      "cell_type": "code",
      "metadata": {
        "colab": {
          "base_uri": "https://localhost:8080/"
        },
        "id": "L8tQWYAiMKkn",
        "outputId": "aaed31b3-7f3f-4a12-e88a-43f57c239769"
      },
      "source": [
        "nltk.download('stopwords')\n"
      ],
      "execution_count": 16,
      "outputs": [
        {
          "output_type": "stream",
          "name": "stdout",
          "text": [
            "[nltk_data] Downloading package stopwords to /root/nltk_data...\n",
            "[nltk_data]   Unzipping corpora/stopwords.zip.\n"
          ]
        },
        {
          "output_type": "execute_result",
          "data": {
            "text/plain": [
              "True"
            ]
          },
          "metadata": {},
          "execution_count": 16
        }
      ]
    },
    {
      "cell_type": "code",
      "metadata": {
        "colab": {
          "base_uri": "https://localhost:8080/"
        },
        "id": "ClvgRCp4MM0z",
        "outputId": "43d07127-99a0-4913-8303-88e7ec195968"
      },
      "source": [
        "...\n",
        "from nltk.corpus import stopwords\n",
        "stop_words = stopwords.words('english')\n",
        "\n",
        "print(remove_noise(tweet_tokens[0], stop_words))"
      ],
      "execution_count": 17,
      "outputs": [
        {
          "output_type": "stream",
          "name": "stdout",
          "text": [
            "['#followfriday', 'top', 'engage', 'member', 'community', 'week', ':)']\n"
          ]
        }
      ]
    },
    {
      "cell_type": "code",
      "metadata": {
        "id": "XZoW1pwiMRPn"
      },
      "source": [
        "...\n",
        "from nltk.corpus import stopwords\n",
        "stop_words = stopwords.words('english')\n",
        "\n",
        "#print(remove_noise(tweet_tokens[0], stop_words))\n",
        "\n",
        "positive_tweet_tokens = twitter_samples.tokenized('positive_tweets.json')\n",
        "negative_tweet_tokens = twitter_samples.tokenized('negative_tweets.json')\n",
        "\n",
        "positive_cleaned_tokens_list = []\n",
        "negative_cleaned_tokens_list = []\n",
        "\n",
        "for tokens in positive_tweet_tokens:\n",
        "    positive_cleaned_tokens_list.append(remove_noise(tokens, stop_words))\n",
        "\n",
        "for tokens in negative_tweet_tokens:\n",
        "    negative_cleaned_tokens_list.append(remove_noise(tokens, stop_words))"
      ],
      "execution_count": 18,
      "outputs": []
    },
    {
      "cell_type": "code",
      "metadata": {
        "colab": {
          "base_uri": "https://localhost:8080/"
        },
        "id": "3uNScSEzMX5B",
        "outputId": "195befb8-605b-4450-c4dd-363c0e833125"
      },
      "source": [
        "...\n",
        "print(positive_tweet_tokens[500])\n",
        "print(positive_cleaned_tokens_list[500])"
      ],
      "execution_count": 19,
      "outputs": [
        {
          "output_type": "stream",
          "name": "stdout",
          "text": [
            "['Dang', 'that', 'is', 'some', 'rad', '@AbzuGame', '#fanart', '!', ':D', 'https://t.co/bI8k8tb9ht']\n",
            "['dang', 'rad', '#fanart', ':d']\n"
          ]
        }
      ]
    },
    {
      "cell_type": "markdown",
      "metadata": {
        "id": "iuAL50JgMeD2"
      },
      "source": [
        "**Word Density Determination**"
      ]
    },
    {
      "cell_type": "code",
      "metadata": {
        "id": "2p99iy_fMg8z"
      },
      "source": [
        "...\n",
        "\n",
        "def get_all_words(cleaned_tokens_list):\n",
        "    for tokens in cleaned_tokens_list:\n",
        "        for token in tokens:\n",
        "            yield token\n",
        "\n",
        "all_pos_words = get_all_words(positive_cleaned_tokens_list)"
      ],
      "execution_count": 20,
      "outputs": []
    },
    {
      "cell_type": "code",
      "metadata": {
        "colab": {
          "base_uri": "https://localhost:8080/"
        },
        "id": "u_2N3l47Mkg4",
        "outputId": "b8392f42-127d-4f2c-e053-18dbee2488f9"
      },
      "source": [
        "from nltk import FreqDist\n",
        "\n",
        "freq_dist_pos = FreqDist(all_pos_words)\n",
        "print(freq_dist_pos.most_common(10))"
      ],
      "execution_count": 21,
      "outputs": [
        {
          "output_type": "stream",
          "name": "stdout",
          "text": [
            "[(':)', 3691), (':-)', 701), (':d', 658), ('thanks', 388), ('follow', 357), ('love', 333), ('...', 290), ('good', 283), ('get', 263), ('thank', 253)]\n"
          ]
        }
      ]
    },
    {
      "cell_type": "markdown",
      "metadata": {
        "id": "B6KefjAFMqYl"
      },
      "source": [
        "**Preparing Data for Model**"
      ]
    },
    {
      "cell_type": "code",
      "metadata": {
        "id": "ckh7pzTyMs5X"
      },
      "source": [
        "...\n",
        "def get_tweets_for_model(cleaned_tokens_list):\n",
        "    for tweet_tokens in cleaned_tokens_list:\n",
        "        yield dict([token, True] for token in tweet_tokens)\n",
        "\n",
        "positive_tokens_for_model = get_tweets_for_model(positive_cleaned_tokens_list)\n",
        "negative_tokens_for_model = get_tweets_for_model(negative_cleaned_tokens_list)"
      ],
      "execution_count": 22,
      "outputs": []
    },
    {
      "cell_type": "markdown",
      "metadata": {
        "id": "mzuwVIG1MySH"
      },
      "source": [
        "Splitting training and testing data"
      ]
    },
    {
      "cell_type": "code",
      "metadata": {
        "id": "6V2FhgEBMwvh"
      },
      "source": [
        "...\n",
        "import random\n",
        "\n",
        "positive_dataset = [(tweet_dict, \"Positive\")\n",
        "                     for tweet_dict in positive_tokens_for_model]\n",
        "\n",
        "negative_dataset = [(tweet_dict, \"Negative\")\n",
        "                     for tweet_dict in negative_tokens_for_model]\n",
        "\n",
        "dataset = positive_dataset + negative_dataset\n",
        "\n",
        "random.shuffle(dataset)\n",
        "\n",
        "train_data = dataset[:7000]\n",
        "test_data = dataset[7000:]"
      ],
      "execution_count": 23,
      "outputs": []
    },
    {
      "cell_type": "markdown",
      "metadata": {
        "id": "csZrZo0dM9cU"
      },
      "source": [
        "**Building and testing Model**"
      ]
    },
    {
      "cell_type": "code",
      "metadata": {
        "colab": {
          "base_uri": "https://localhost:8080/"
        },
        "id": "hPgbY2yJNAQN",
        "outputId": "78ff9709-121f-46a7-c37e-c53b43e2b768"
      },
      "source": [
        "...\n",
        "from nltk import classify\n",
        "from nltk import NaiveBayesClassifier\n",
        "classifier = NaiveBayesClassifier.train(train_data)\n",
        "\n",
        "print(\"Accuracy is:\", classify.accuracy(classifier, test_data))\n",
        "\n",
        "print(classifier.show_most_informative_features(10))"
      ],
      "execution_count": 24,
      "outputs": [
        {
          "output_type": "stream",
          "name": "stdout",
          "text": [
            "Accuracy is: 0.9953333333333333\n",
            "Most Informative Features\n",
            "                      :( = True           Negati : Positi =   2069.3 : 1.0\n",
            "                follower = True           Positi : Negati =     35.4 : 1.0\n",
            "                     sad = True           Negati : Positi =     32.8 : 1.0\n",
            "                     bam = True           Positi : Negati =     22.9 : 1.0\n",
            "                    glad = True           Positi : Negati =     19.5 : 1.0\n",
            "               community = True           Positi : Negati =     18.2 : 1.0\n",
            "                    poor = True           Negati : Positi =     16.4 : 1.0\n",
            "                     x15 = True           Negati : Positi =     16.4 : 1.0\n",
            "                followed = True           Negati : Positi =     15.1 : 1.0\n",
            "                     ugh = True           Negati : Positi =     14.4 : 1.0\n",
            "None\n"
          ]
        }
      ]
    },
    {
      "cell_type": "code",
      "metadata": {
        "colab": {
          "base_uri": "https://localhost:8080/"
        },
        "id": "_i2RymNoNFY7",
        "outputId": "554344f6-464b-4945-fcd0-ff608d56a366"
      },
      "source": [
        "...\n",
        "from nltk.tokenize import word_tokenize\n",
        "\n",
        "custom_tweet = \"I ordered just once from TerribleCo, they screwed up, never used the app again.\"\n",
        "\n",
        "custom_tokens = remove_noise(word_tokenize(custom_tweet))\n",
        "\n",
        "print(classifier.classify(dict([token, True] for token in custom_tokens)))"
      ],
      "execution_count": 25,
      "outputs": [
        {
          "output_type": "stream",
          "name": "stdout",
          "text": [
            "Negative\n"
          ]
        }
      ]
    },
    {
      "cell_type": "code",
      "metadata": {
        "colab": {
          "base_uri": "https://localhost:8080/"
        },
        "id": "fTq_UM04NZBg",
        "outputId": "1e83c881-7d10-4f46-9e66-53c3a1fa2b8b"
      },
      "source": [
        "...\n",
        "from nltk.tokenize import word_tokenize\n",
        "\n",
        "custom_tweet = \"Boat headphones have really great quality.\"\n",
        "\n",
        "custom_tokens = remove_noise(word_tokenize(custom_tweet))\n",
        "\n",
        "print(classifier.classify(dict([token, True] for token in custom_tokens)))"
      ],
      "execution_count": 28,
      "outputs": [
        {
          "output_type": "stream",
          "name": "stdout",
          "text": [
            "Positive\n"
          ]
        }
      ]
    },
    {
      "cell_type": "code",
      "metadata": {
        "colab": {
          "base_uri": "https://localhost:8080/"
        },
        "id": "3qej-etQOl_2",
        "outputId": "4bfa7751-3311-442b-b92f-fb7bccfb377d"
      },
      "source": [
        "...\n",
        "from nltk import classify\n",
        "from nltk import NaiveBayesClassifier\n",
        "classifier = NaiveBayesClassifier.train(train_data)\n",
        "\n",
        "print(\"Accuracy is:\", classify.accuracy(classifier, test_data))\n",
        "\n",
        "print(classifier.show_most_informative_features(10))"
      ],
      "execution_count": 29,
      "outputs": [
        {
          "output_type": "stream",
          "name": "stdout",
          "text": [
            "Accuracy is: 0.9953333333333333\n",
            "Most Informative Features\n",
            "                      :( = True           Negati : Positi =   2069.3 : 1.0\n",
            "                follower = True           Positi : Negati =     35.4 : 1.0\n",
            "                     sad = True           Negati : Positi =     32.8 : 1.0\n",
            "                     bam = True           Positi : Negati =     22.9 : 1.0\n",
            "                    glad = True           Positi : Negati =     19.5 : 1.0\n",
            "               community = True           Positi : Negati =     18.2 : 1.0\n",
            "                    poor = True           Negati : Positi =     16.4 : 1.0\n",
            "                     x15 = True           Negati : Positi =     16.4 : 1.0\n",
            "                followed = True           Negati : Positi =     15.1 : 1.0\n",
            "                     ugh = True           Negati : Positi =     14.4 : 1.0\n",
            "None\n"
          ]
        }
      ]
    }
  ]
}