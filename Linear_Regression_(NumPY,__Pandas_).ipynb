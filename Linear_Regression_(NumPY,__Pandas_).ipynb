{
  "nbformat": 4,
  "nbformat_minor": 0,
  "metadata": {
    "colab": {
      "name": "Linear Regression (NumPY, _Pandas_).ipynb",
      "provenance": [],
      "authorship_tag": "ABX9TyOm2x+XIZe++9O+XUtFdzjv",
      "include_colab_link": true
    },
    "kernelspec": {
      "name": "python3",
      "display_name": "Python 3"
    },
    "language_info": {
      "name": "python"
    }
  },
  "cells": [
    {
      "cell_type": "markdown",
      "metadata": {
        "id": "view-in-github",
        "colab_type": "text"
      },
      "source": [
        "<a href=\"https://colab.research.google.com/github/Priyal-Y/Machine-Learning-and-Data-Science/blob/main/Linear_Regression_(NumPY%2C__Pandas_).ipynb\" target=\"_parent\"><img src=\"https://colab.research.google.com/assets/colab-badge.svg\" alt=\"Open In Colab\"/></a>"
      ]
    },
    {
      "cell_type": "code",
      "metadata": {
        "id": "PrMeieHlvHcZ"
      },
      "source": [
        "import pandas as pd\n",
        "import numpy as np"
      ],
      "execution_count": 16,
      "outputs": []
    },
    {
      "cell_type": "code",
      "metadata": {
        "colab": {
          "base_uri": "https://localhost:8080/"
        },
        "id": "0D1ZwGTj6ICa",
        "outputId": "49f7a755-d416-4909-e5e8-b95294194149"
      },
      "source": [
        "df = pd.read_csv('/content/Levels_Fyi_Salary_Data.csv')\n",
        "print(df)"
      ],
      "execution_count": 9,
      "outputs": [
        {
          "output_type": "stream",
          "name": "stdout",
          "text": [
            "                timestamp     company     level  ... Race_Hispanic  Race Education\n",
            "0        06-07-2017 11:33      Oracle        L3  ...             0   NaN       NaN\n",
            "1        06-10-2017 17:11        eBay      SE 2  ...             0   NaN       NaN\n",
            "2        06-11-2017 14:53      Amazon        L7  ...             0   NaN       NaN\n",
            "3       6/17/2017 0:23:14       Apple        M1  ...             0   NaN       NaN\n",
            "4      6/20/2017 10:58:51   Microsoft        60  ...             0   NaN       NaN\n",
            "...                   ...         ...       ...  ...           ...   ...       ...\n",
            "62637    09-09-2018 11:52      Google        T4  ...             0   NaN       NaN\n",
            "62638   9/13/2018 8:23:32   Microsoft        62  ...             0   NaN       NaN\n",
            "62639  9/13/2018 14:35:59        MSFT        63  ...             0   NaN       NaN\n",
            "62640  9/16/2018 16:10:35  Salesforce  Lead MTS  ...             0   NaN       NaN\n",
            "62641   1/29/2019 5:12:59       apple      ict3  ...             0   NaN       NaN\n",
            "\n",
            "[62642 rows x 29 columns]\n"
          ]
        }
      ]
    },
    {
      "cell_type": "code",
      "metadata": {
        "colab": {
          "base_uri": "https://localhost:8080/"
        },
        "id": "T8vtoCWj6YBP",
        "outputId": "42374db2-7636-4337-d7c3-8fe00afce65b"
      },
      "source": [
        "print(df.columns)"
      ],
      "execution_count": 10,
      "outputs": [
        {
          "output_type": "stream",
          "name": "stdout",
          "text": [
            "Index(['timestamp', 'company', 'level', 'title', 'totalyearlycompensation',\n",
            "       'location', 'yearsofexperience', 'yearsatcompany', 'tag', 'basesalary',\n",
            "       'stockgrantvalue', 'bonus', 'gender', 'otherdetails', 'cityid', 'dmaid',\n",
            "       'rowNumber', 'Masters_Degree', 'Bachelors_Degree', 'Doctorate_Degree',\n",
            "       'Highschool', 'Some_College', 'Race_Asian', 'Race_White',\n",
            "       'Race_Two_Or_More', 'Race_Black', 'Race_Hispanic', 'Race', 'Education'],\n",
            "      dtype='object')\n"
          ]
        }
      ]
    },
    {
      "cell_type": "code",
      "metadata": {
        "id": "dak5qnAg6dxE"
      },
      "source": [
        "salaryDF = df[['company','totalyearlycompensation','yearsofexperience','yearsatcompany','basesalary']]"
      ],
      "execution_count": 11,
      "outputs": []
    },
    {
      "cell_type": "code",
      "metadata": {
        "colab": {
          "base_uri": "https://localhost:8080/"
        },
        "id": "T34fPXNq7Gdj",
        "outputId": "bd36ed7b-b399-4f4a-c581-8b817e764f62"
      },
      "source": [
        "print(salaryDF.head())"
      ],
      "execution_count": 12,
      "outputs": [
        {
          "output_type": "stream",
          "name": "stdout",
          "text": [
            "     company  totalyearlycompensation  ...  yearsatcompany  basesalary\n",
            "0     Oracle                   127000  ...             1.5      107000\n",
            "1       eBay                   100000  ...             3.0           0\n",
            "2     Amazon                   310000  ...             0.0      155000\n",
            "3      Apple                   372000  ...             5.0      157000\n",
            "4  Microsoft                   157000  ...             3.0           0\n",
            "\n",
            "[5 rows x 5 columns]\n"
          ]
        }
      ]
    },
    {
      "cell_type": "markdown",
      "metadata": {
        "id": "ma_LghsrNeVq"
      },
      "source": [
        "##**Create training and testing data**\n",
        "\n"
      ]
    },
    {
      "cell_type": "markdown",
      "metadata": {
        "id": "NBOD3DDfNnlz"
      },
      "source": [
        "y = totalyearlycompensation\n",
        "\n",
        "x1 = yearsofexperience\n",
        "x2 = yearsatcompany\n",
        "x3 = basesalary\n",
        "\n",
        "y = w1x1 + w2x2 + w3x3 + b\n",
        "\n",
        "Y =WX\n",
        "\n",
        "X.T = (x1 x2 x3 1)\n",
        "W.T = (w1 w2 w3 b)\n",
        "\n"
      ]
    },
    {
      "cell_type": "code",
      "metadata": {
        "colab": {
          "base_uri": "https://localhost:8080/",
          "height": 423
        },
        "id": "Mls9mRB7RKoL",
        "outputId": "7be7d67b-6fee-4a0c-f795-5a08d4a219e3"
      },
      "source": [
        "x_train = salaryDF.iloc[:50000,2:]\n",
        "y_train = salaryDF.iloc[:50000,1]\n",
        "x_test = salaryDF.iloc[50000:,2:]\n",
        "y_test = salaryDF.iloc[50000:,1]\n",
        "x_train.assign(b=1)\n",
        "x_test.assign(b=1)"
      ],
      "execution_count": 25,
      "outputs": [
        {
          "output_type": "execute_result",
          "data": {
            "text/html": [
              "<div>\n",
              "<style scoped>\n",
              "    .dataframe tbody tr th:only-of-type {\n",
              "        vertical-align: middle;\n",
              "    }\n",
              "\n",
              "    .dataframe tbody tr th {\n",
              "        vertical-align: top;\n",
              "    }\n",
              "\n",
              "    .dataframe thead th {\n",
              "        text-align: right;\n",
              "    }\n",
              "</style>\n",
              "<table border=\"1\" class=\"dataframe\">\n",
              "  <thead>\n",
              "    <tr style=\"text-align: right;\">\n",
              "      <th></th>\n",
              "      <th>yearsofexperience</th>\n",
              "      <th>yearsatcompany</th>\n",
              "      <th>basesalary</th>\n",
              "      <th>b</th>\n",
              "    </tr>\n",
              "  </thead>\n",
              "  <tbody>\n",
              "    <tr>\n",
              "      <th>50000</th>\n",
              "      <td>6.0</td>\n",
              "      <td>4.0</td>\n",
              "      <td>147000</td>\n",
              "      <td>1</td>\n",
              "    </tr>\n",
              "    <tr>\n",
              "      <th>50001</th>\n",
              "      <td>2.0</td>\n",
              "      <td>1.0</td>\n",
              "      <td>88000</td>\n",
              "      <td>1</td>\n",
              "    </tr>\n",
              "    <tr>\n",
              "      <th>50002</th>\n",
              "      <td>4.0</td>\n",
              "      <td>0.0</td>\n",
              "      <td>118000</td>\n",
              "      <td>1</td>\n",
              "    </tr>\n",
              "    <tr>\n",
              "      <th>50003</th>\n",
              "      <td>3.0</td>\n",
              "      <td>1.0</td>\n",
              "      <td>112000</td>\n",
              "      <td>1</td>\n",
              "    </tr>\n",
              "    <tr>\n",
              "      <th>50004</th>\n",
              "      <td>4.0</td>\n",
              "      <td>0.0</td>\n",
              "      <td>145000</td>\n",
              "      <td>1</td>\n",
              "    </tr>\n",
              "    <tr>\n",
              "      <th>...</th>\n",
              "      <td>...</td>\n",
              "      <td>...</td>\n",
              "      <td>...</td>\n",
              "      <td>...</td>\n",
              "    </tr>\n",
              "    <tr>\n",
              "      <th>62637</th>\n",
              "      <td>10.0</td>\n",
              "      <td>1.0</td>\n",
              "      <td>155000</td>\n",
              "      <td>1</td>\n",
              "    </tr>\n",
              "    <tr>\n",
              "      <th>62638</th>\n",
              "      <td>2.0</td>\n",
              "      <td>2.0</td>\n",
              "      <td>146900</td>\n",
              "      <td>1</td>\n",
              "    </tr>\n",
              "    <tr>\n",
              "      <th>62639</th>\n",
              "      <td>14.0</td>\n",
              "      <td>12.0</td>\n",
              "      <td>157000</td>\n",
              "      <td>1</td>\n",
              "    </tr>\n",
              "    <tr>\n",
              "      <th>62640</th>\n",
              "      <td>8.0</td>\n",
              "      <td>4.0</td>\n",
              "      <td>194688</td>\n",
              "      <td>1</td>\n",
              "    </tr>\n",
              "    <tr>\n",
              "      <th>62641</th>\n",
              "      <td>0.0</td>\n",
              "      <td>0.0</td>\n",
              "      <td>155000</td>\n",
              "      <td>1</td>\n",
              "    </tr>\n",
              "  </tbody>\n",
              "</table>\n",
              "<p>12642 rows × 4 columns</p>\n",
              "</div>"
            ],
            "text/plain": [
              "       yearsofexperience  yearsatcompany  basesalary  b\n",
              "50000                6.0             4.0      147000  1\n",
              "50001                2.0             1.0       88000  1\n",
              "50002                4.0             0.0      118000  1\n",
              "50003                3.0             1.0      112000  1\n",
              "50004                4.0             0.0      145000  1\n",
              "...                  ...             ...         ... ..\n",
              "62637               10.0             1.0      155000  1\n",
              "62638                2.0             2.0      146900  1\n",
              "62639               14.0            12.0      157000  1\n",
              "62640                8.0             4.0      194688  1\n",
              "62641                0.0             0.0      155000  1\n",
              "\n",
              "[12642 rows x 4 columns]"
            ]
          },
          "metadata": {},
          "execution_count": 25
        }
      ]
    },
    {
      "cell_type": "markdown",
      "metadata": {
        "id": "AZF1UXxjOJJx"
      },
      "source": [
        "***Functions for RMSE & calculating weights***"
      ]
    },
    {
      "cell_type": "code",
      "metadata": {
        "id": "UnTPPH3ENFqM"
      },
      "source": [
        "def rmse(targets, predictions):\n",
        "  return np.sqrt((np.square(predictions - targets)).mean())\n",
        "\n",
        "def calculateWeights(x_train, y_train):\n",
        "  w = np.linalg.inv(np.transpose(x_train).dot(x_train)).dot(np.transpose(x_train).dot(y_train))\n",
        "  return w"
      ],
      "execution_count": 26,
      "outputs": []
    },
    {
      "cell_type": "code",
      "metadata": {
        "colab": {
          "base_uri": "https://localhost:8080/"
        },
        "id": "8ZjsMckgRzMw",
        "outputId": "74ecea3e-387b-4a43-ff5f-86667e226b4c"
      },
      "source": [
        "w = calculateWeights(x_train, y_train)\n",
        "print(x_train.shape)"
      ],
      "execution_count": 27,
      "outputs": [
        {
          "output_type": "stream",
          "name": "stdout",
          "text": [
            "(50000, 3)\n"
          ]
        }
      ]
    },
    {
      "cell_type": "code",
      "metadata": {
        "colab": {
          "base_uri": "https://localhost:8080/"
        },
        "id": "r5xIusqrRzPo",
        "outputId": "52a401f5-e846-4fdb-b4a8-cd15abddae95"
      },
      "source": [
        "#training error\n",
        "y_train_pred = x_train.dot(w)\n",
        "train_error = rmse(y_train, y_train_pred)\n",
        "print(train_error)\n",
        "\n",
        "#testing error\n",
        "y_test_pred = x_test.dot(w)\n",
        "test_error = rmse(y_test, y_test_pred)\n",
        "print(test_error)"
      ],
      "execution_count": 28,
      "outputs": [
        {
          "output_type": "stream",
          "name": "stdout",
          "text": [
            "92627.74547700818\n",
            "120276.76730360147\n"
          ]
        }
      ]
    },
    {
      "cell_type": "code",
      "metadata": {
        "colab": {
          "base_uri": "https://localhost:8080/"
        },
        "id": "En6U7ceoUNOZ",
        "outputId": "140fca68-e0b9-4a66-9934-5fe89cc8f823"
      },
      "source": [
        "'''\n",
        "y = totalyearlycompensation\n",
        "x1 = yearsofexperience  x2 = yearsatcompany  x3 = basesalary\n",
        "'''\n",
        "new_pred = np.array([5,3,80000]).dot(w)\n",
        "print(new_pred)"
      ],
      "execution_count": 33,
      "outputs": [
        {
          "output_type": "stream",
          "name": "stdout",
          "text": [
            "129373.78264826829\n"
          ]
        }
      ]
    }
  ]
}